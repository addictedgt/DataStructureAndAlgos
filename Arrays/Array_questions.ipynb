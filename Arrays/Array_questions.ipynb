{
 "cells": [
  {
   "cell_type": "markdown",
   "metadata": {},
   "source": [
    "## Question - expand the pattern, e.g., 1a10b1c -> abbbbbbbbbbcccccccccc\n",
    "\n",
    "1. Time Complexity : O(n^2) -> For every element in pattern we traverse it O(n) and then we are concatinating the string\n",
    "2. A better solution would be to use list.append as strings are immutable and everytime we do expanded_pattern += (char*expansion); It creates a new string, copies the old string and updates the pattern"
   ]
  },
  {
   "cell_type": "code",
   "execution_count": null,
   "metadata": {},
   "outputs": [],
   "source": [
    "def expand_str(pattern):\n",
    "    # Lower the str\n",
    "    pattern = pattern.lower()\n",
    "    expanded_pattern = \"\"\n",
    "    list_of_numbers = [\"1\" , \"2\" , \"3\" , \"4\" , \"5\" , \"6\" , \"7\" , \"8\" , \"9\" , \"0\"]\n",
    "    ## Traverse the string\n",
    "    expansion = 0\n",
    "    for char in pattern:\n",
    "        # print(char)\n",
    "        if char in list_of_numbers:\n",
    "\n",
    "            ## We need to expand the next character\n",
    "            expansion = expansion*10+int(char)\n",
    "            continue\n",
    "        else:\n",
    "            # print(expansion)\n",
    "            expanded_pattern += (char*expansion)\n",
    "            expansion = 0\n",
    "            # print(expanded_pattern)\n",
    "    return expanded_pattern"
   ]
  },
  {
   "cell_type": "code",
   "execution_count": 1,
   "metadata": {},
   "outputs": [],
   "source": [
    "## Optimized solution\n",
    "def expand_str(pattern):\n",
    "    # Lower the str\n",
    "    pattern = pattern.lower()\n",
    "    expanded_pattern = []\n",
    "    list_of_numbers = [\"1\" , \"2\" , \"3\" , \"4\" , \"5\" , \"6\" , \"7\" , \"8\" , \"9\" , \"0\"]\n",
    "    ## Traverse the string\n",
    "    expansion = 0\n",
    "    for char in pattern:\n",
    "        # print(char)\n",
    "        if char in list_of_numbers:\n",
    "\n",
    "            ## We need to expand the next character\n",
    "            expansion = expansion*10+int(char)\n",
    "            continue\n",
    "        else:\n",
    "            # print(expansion)\n",
    "            expanded_pattern.append(char*expansion)\n",
    "            expansion = 0\n",
    "            # print(expanded_pattern)\n",
    "    return \"\".join(expanded_pattern)"
   ]
  },
  {
   "cell_type": "code",
   "execution_count": 5,
   "metadata": {},
   "outputs": [
    {
     "data": {
      "text/plain": [
       "'aaaaaaaaaabbbbbbbbbbbbbbbbbbbbccccc'"
      ]
     },
     "execution_count": 5,
     "metadata": {},
     "output_type": "execute_result"
    }
   ],
   "source": [
    "pattern = \"10a20b5c\"\n",
    "expand_str(pattern)\n"
   ]
  },
  {
   "cell_type": "markdown",
   "metadata": {},
   "source": [
    "## Find character with max frequency \n",
    "1. this will serve as a method to solve for anagrams\n",
    "2. Time : 0(N)"
   ]
  },
  {
   "cell_type": "code",
   "execution_count": 7,
   "metadata": {},
   "outputs": [
    {
     "name": "stdout",
     "output_type": "stream",
     "text": [
      "0  with frequency  2\n"
     ]
    }
   ],
   "source": [
    "## Read up on DS and where to use it\n",
    "## Time / Space complexity ; Big 0 notation ; Recurrence relation\n",
    "## 1. Arrays\n",
    "## How do data structures work in Python? Implementation in python\n",
    "## Optimally efficient sorting algorith - merge sort \n",
    "## Binary search ; Optimally efficient searching algorithm\n",
    "# Array,strings,stacks (LIFO) ,queue,lists\n",
    "                \n",
    "\n",
    "    \n",
    "\n",
    "def count_frequent(pattern):\n",
    "    dict_char = {}\n",
    "    top_char = \"\"\n",
    "    top_frequency = -99\n",
    "    \n",
    "    for char in pattern:\n",
    "        if char in dict_char:\n",
    "            dict_char[char] += 1\n",
    "        else:\n",
    "            dict_char[char] = 1\n",
    "            \n",
    "        if dict_char[char]>=top_frequency:\n",
    "            top_frequency  = dict_char[char]\n",
    "            top_char = char\n",
    "            \n",
    "    print(top_char, \" with frequency \" , top_frequency)\n",
    "\n",
    "count_frequent(pattern)\n",
    "\n",
    "    \n",
    "            \n"
   ]
  },
  {
   "cell_type": "code",
   "execution_count": 10,
   "metadata": {},
   "outputs": [
    {
     "name": "stdout",
     "output_type": "stream",
     "text": [
      "a  with frequency  4\n"
     ]
    }
   ],
   "source": [
    "count_frequent(\"aaaabbbcccddeee\")"
   ]
  },
  {
   "cell_type": "code",
   "execution_count": null,
   "metadata": {},
   "outputs": [],
   "source": []
  }
 ],
 "metadata": {
  "kernelspec": {
   "display_name": "base",
   "language": "python",
   "name": "python3"
  },
  "language_info": {
   "codemirror_mode": {
    "name": "ipython",
    "version": 3
   },
   "file_extension": ".py",
   "mimetype": "text/x-python",
   "name": "python",
   "nbconvert_exporter": "python",
   "pygments_lexer": "ipython3",
   "version": "3.12.7"
  }
 },
 "nbformat": 4,
 "nbformat_minor": 2
}
