{
 "cells": [
  {
   "cell_type": "markdown",
   "metadata": {},
   "source": [
    "## Merge Sort\n",
    "1. Recursive algorithm\n",
    "2. Time complexity - O(nlogn) \n",
    "3. Space complexity - O(N)"
   ]
  },
  {
   "cell_type": "code",
   "execution_count": 14,
   "metadata": {},
   "outputs": [],
   "source": [
    "def merge_sort(arr,left,right):\n",
    "\n",
    "    print(f\"Calling merge sort with Array : {arr}\" , f\"Left : {left}\" , f\"Right : {right}\")\n",
    "    if left<right:\n",
    "        mid = (left+ right)//2\n",
    "        ## Sort left half\n",
    "        merge_sort(arr,left,mid)\n",
    "        ## Sort right half\n",
    "        merge_sort(arr,mid+1,right)\n",
    "        ## Merge the sorted halves\n",
    "        merge(arr,left,mid,right)\n",
    "\n",
    "\n",
    "def merge(arr,left,mid,right):\n",
    "    print(\"Calling merge with left : \",left , \"mid : \",mid , \"right : \",right , \"Array : \",arr)\n",
    "    ## Copy the data to temp arrays L[] and R[]\n",
    "    L = arr[left:mid+1]\n",
    "    R = arr[mid+1:right+1]\n",
    "    i = 0\n",
    "    j = 0\n",
    "    print(f\"Left Array : {L}\" , f\"Right Array : {R}\")\n",
    "    ## Initial index of merged subarray array\n",
    "    k = left\n",
    "\n",
    "    ## While condition will be used to test if the left and right arrays are exhausted\n",
    "    while i<len(L) and j<len(R):\n",
    "      if L[i]<=R[j]:\n",
    "          arr[k] = L[i]\n",
    "          i+=1\n",
    "\n",
    "      else:\n",
    "          arr[k] = R[j]\n",
    "          j+=1\n",
    "\n",
    "      k+=1\n",
    "\n",
    "\n",
    "    ## Copy the remaining elements of L or R if any left\n",
    "    while i<len(L):\n",
    "        arr[k] = L[i]\n",
    "        i+=1\n",
    "        k+=1\n",
    "    while j < len(R):\n",
    "        arr[k] = R[j]\n",
    "        j+=1\n",
    "        k+=1\n",
    "\n",
    "    "
   ]
  },
  {
   "cell_type": "code",
   "execution_count": 17,
   "metadata": {},
   "outputs": [
    {
     "name": "stdout",
     "output_type": "stream",
     "text": [
      "Calling merge sort with Array : [12, 11, 13, 5, 6, 7] Left : 0 Right : 5\n",
      "Calling merge sort with Array : [12, 11, 13, 5, 6, 7] Left : 0 Right : 2\n",
      "Calling merge sort with Array : [12, 11, 13, 5, 6, 7] Left : 0 Right : 1\n",
      "Calling merge sort with Array : [12, 11, 13, 5, 6, 7] Left : 0 Right : 0\n",
      "Calling merge sort with Array : [12, 11, 13, 5, 6, 7] Left : 1 Right : 1\n",
      "Calling merge with left :  0 mid :  0 right :  1 Array :  [12, 11, 13, 5, 6, 7]\n",
      "Left Array : [12] Right Array : [11]\n",
      "Calling merge sort with Array : [11, 12, 13, 5, 6, 7] Left : 2 Right : 2\n",
      "Calling merge with left :  0 mid :  1 right :  2 Array :  [11, 12, 13, 5, 6, 7]\n",
      "Left Array : [11, 12] Right Array : [13]\n",
      "Calling merge sort with Array : [11, 12, 13, 5, 6, 7] Left : 3 Right : 5\n",
      "Calling merge sort with Array : [11, 12, 13, 5, 6, 7] Left : 3 Right : 4\n",
      "Calling merge sort with Array : [11, 12, 13, 5, 6, 7] Left : 3 Right : 3\n",
      "Calling merge sort with Array : [11, 12, 13, 5, 6, 7] Left : 4 Right : 4\n",
      "Calling merge with left :  3 mid :  3 right :  4 Array :  [11, 12, 13, 5, 6, 7]\n",
      "Left Array : [5] Right Array : [6]\n",
      "Calling merge sort with Array : [11, 12, 13, 5, 6, 7] Left : 5 Right : 5\n",
      "Calling merge with left :  3 mid :  4 right :  5 Array :  [11, 12, 13, 5, 6, 7]\n",
      "Left Array : [5, 6] Right Array : [7]\n",
      "Calling merge with left :  0 mid :  2 right :  5 Array :  [11, 12, 13, 5, 6, 7]\n",
      "Left Array : [11, 12, 13] Right Array : [5, 6, 7]\n",
      "[5, 6, 7, 11, 12, 13]\n"
     ]
    }
   ],
   "source": [
    "arr = [12, 11, 13, 5, 6, 7]\n",
    "merge_sort(arr,0,len(arr)-1)\n",
    "print(arr)"
   ]
  },
  {
   "cell_type": "markdown",
   "metadata": {},
   "source": [
    "## Binary search\n",
    "1. Works only on sorted array\n",
    "2. Time complexity - O(logN)"
   ]
  },
  {
   "cell_type": "code",
   "execution_count": 1,
   "metadata": {},
   "outputs": [],
   "source": [
    "def binary_search(arr, low, high, search_element):\n",
    "    mid = (low+high)//2\n",
    "\n",
    "    while low<=high:\n",
    "        if arr[mid] == search_element:\n",
    "            return mid\n",
    "        elif arr[mid] < search_element:\n",
    "            ## Search the right half\n",
    "            low = mid+1\n",
    "        else:\n",
    "            ## Search the left half\n",
    "            high = mid-1\n",
    "\n",
    "        mid = (low+high)//2\n",
    "\n",
    "    return -1"
   ]
  },
  {
   "cell_type": "code",
   "execution_count": 3,
   "metadata": {},
   "outputs": [],
   "source": [
    "arr = [2, 3, 4, 10, 40]\n",
    "x = 10\n",
    "\n",
    "# Function call\n",
    "result = binary_search(arr, 0, len(arr)-1, x)"
   ]
  },
  {
   "cell_type": "code",
   "execution_count": 4,
   "metadata": {},
   "outputs": [
    {
     "data": {
      "text/plain": [
       "3"
      ]
     },
     "execution_count": 4,
     "metadata": {},
     "output_type": "execute_result"
    }
   ],
   "source": [
    "result"
   ]
  },
  {
   "cell_type": "code",
   "execution_count": null,
   "metadata": {},
   "outputs": [],
   "source": []
  }
 ],
 "metadata": {
  "kernelspec": {
   "display_name": "base",
   "language": "python",
   "name": "python3"
  },
  "language_info": {
   "codemirror_mode": {
    "name": "ipython",
    "version": 3
   },
   "file_extension": ".py",
   "mimetype": "text/x-python",
   "name": "python",
   "nbconvert_exporter": "python",
   "pygments_lexer": "ipython3",
   "version": "3.12.7"
  }
 },
 "nbformat": 4,
 "nbformat_minor": 2
}
